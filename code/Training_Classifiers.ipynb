{
 "cells": [
  {
   "cell_type": "markdown",
   "metadata": {},
   "source": [
    "# Training Classifiers\n",
    "\n",
    "This notebook uses modified code to test model predictions of different fly behavioral states. "
   ]
  },
  {
   "cell_type": "code",
   "execution_count": 262,
   "metadata": {},
   "outputs": [],
   "source": [
    "import pandas as pd\n",
    "import numpy as np\n",
    "from time import time\n",
    "import matplotlib.pyplot as plt\n",
    "from sklearn.metrics import confusion_matrix, f1_score, recall_score,  accuracy_score, precision_score\n",
    "from sklearn.model_selection import  RandomizedSearchCV\n",
    "\n",
    "import scipy\n",
    "from sklearn.model_selection import  cross_val_predict \n",
    "\n",
    "import matplotlib.pyplot as plt\n",
    "import seaborn as sn\n",
    "import pathlib\n",
    "from sklearn import preprocessing\n",
    "lb = preprocessing.LabelEncoder()"
   ]
  },
  {
   "cell_type": "markdown",
   "metadata": {},
   "source": [
    "### Reading in the data "
   ]
  },
  {
   "cell_type": "code",
   "execution_count": 257,
   "metadata": {},
   "outputs": [],
   "source": [
    "filename = 'CxHP8_gtACR1_grooming_trials.pq'\n",
    "file_path = pathlib.Path.cwd().parent.joinpath('data')\n",
    "data = pd.read_parquet(file_path.joinpath(filename), engine='pyarrow')"
   ]
  },
  {
   "cell_type": "markdown",
   "metadata": {},
   "source": [
    "### Assign numerical values to behaviors"
   ]
  },
  {
   "cell_type": "code",
   "execution_count": null,
   "metadata": {},
   "outputs": [],
   "source": []
  },
  {
   "cell_type": "code",
   "execution_count": null,
   "metadata": {},
   "outputs": [],
   "source": []
  },
  {
   "cell_type": "markdown",
   "metadata": {},
   "source": [
    "### Defining Metrics - Soma and Nucleus"
   ]
  },
  {
   "cell_type": "code",
   "execution_count": 36,
   "metadata": {},
   "outputs": [],
   "source": [
    "metrics = ['nucleus_area_norm',\n",
    " 'nucleus_area_to_volume_ratio_norm',\n",
    " 'fold_area_nm_norm',\n",
    " 'fract_fold_norm',\n",
    " 'nucleus_to_soma_norm',\n",
    " 'nucleus_volume_norm',\n",
    " 'transformed_y_nm',\n",
    " 'soma_volume_norm',\n",
    " 'soma_area_norm',\n",
    " 'soma_nuc_d_norm',\n",
    " 'soma_area_to_volume_ratio_norm',\n",
    " 'n_soma_syn_norm',\n",
    " 'soma_syn_density_microns_norm']\n"
   ]
  },
  {
   "cell_type": "code",
   "execution_count": 37,
   "metadata": {},
   "outputs": [
    {
     "data": {
      "text/plain": [
       "excitatory    1147\n",
       "inhibitory     155\n",
       "Name: neuron_class_labels, dtype: int64"
      ]
     },
     "execution_count": 37,
     "metadata": {},
     "output_type": "execute_result"
    }
   ],
   "source": [
    "merged_examples.neuron_class_labels.value_counts()"
   ]
  },
  {
   "cell_type": "markdown",
   "metadata": {},
   "source": [
    "### Helpful Functions"
   ]
  },
  {
   "cell_type": "code",
   "execution_count": 38,
   "metadata": {},
   "outputs": [],
   "source": [
    "def train_model(data,labels, model, ordered_labels, cv=10):\n",
    "    '''Training a given classifier using x-fold cross validation. Returns the model, predictions and confusion matrix'''\n",
    "    y_pred = cross_val_predict(model, data, labels, cv=cv)\n",
    "    conf_mat = confusion_matrix(labels, y_pred) \n",
    "    df_cm = pd.DataFrame(conf_mat, index = ordered_labels,\n",
    "                      columns = ordered_labels)\n",
    "    train_model = model.fit(data, labels)\n",
    "    return train_model, y_pred, df_cm\n",
    "\n",
    "def plot_cm(df_cm, save_fig=False, filename='', cmap=\"BuPu\"):\n",
    "    '''Plots a confusion matrix with a given cmap'''\n",
    "    plt.figure(figsize = (10,7))\n",
    "    sn.heatmap(df_cm, annot=True, cmap=cmap,fmt='g')\n",
    "    plt.xlabel('prediction')\n",
    "    plt.ylabel('ground truth')\n",
    "    if save_fig:\n",
    "        plt.savefig(filename)\n",
    "\n",
    "def test_model(model,test_data,test_labels, ordered_labels):\n",
    "    '''Runs prediction of a trained model and returns the model, confusion matrix and predictions'''\n",
    "    final_pred = model.predict(test_data)\n",
    "    test_accuracy = model.score(test_data, test_labels) \n",
    "    test_f1 = f1_score(test_labels, final_pred, average='weighted')\n",
    "    test_recall = recall_score(test_labels, final_pred, average='weighted')\n",
    "    test_precision = precision_score(test_labels,final_pred, average='weighted')\n",
    "    print('Test Accuracy: %.4f,Test Precision: %.4f, Test Recall: %.4f, Test F1 Score: %.4f'%(test_accuracy, test_precision, test_recall, test_f1))\n",
    "\n",
    "    conf_mat = confusion_matrix(test_labels, final_pred) \n",
    "\n",
    "    df_cm = pd.DataFrame(conf_mat, index = ordered_labels,\n",
    "                      columns = ordered_labels)\n",
    "    return model, df_cm, final_pred\n",
    "\n",
    "\n",
    "\n",
    "def report(results, n_top=3):\n",
    "    '''Utility function to report best scores'''\n",
    "    for i in range(1, n_top + 1):\n",
    "        candidates = np.flatnonzero(results['rank_test_score'] == i)\n",
    "        for candidate in candidates:\n",
    "            print(\"Model with rank: {0}\".format(i))\n",
    "            print(\"Mean validation score: {0:.3f} (std: {1:.3f})\"\n",
    "                  .format(results['mean_test_score'][candidate],\n",
    "                          results['std_test_score'][candidate]))\n",
    "            print(\"Parameters: {0}\".format(results['params'][candidate]))\n",
    "            print(\"\")\n",
    "            "
   ]
  },
  {
   "cell_type": "markdown",
   "metadata": {},
   "source": [
    "## Preparing the Data\n",
    "### Predicting neuron class type (E/I)"
   ]
  },
  {
   "cell_type": "code",
   "execution_count": 40,
   "metadata": {},
   "outputs": [
    {
     "data": {
      "text/plain": [
       "excitatory    1147\n",
       "inhibitory     155\n",
       "Name: neuron_class_labels, dtype: int64"
      ]
     },
     "execution_count": 40,
     "metadata": {},
     "output_type": "execute_result"
    }
   ],
   "source": [
    "#Filter out only the cells of interest - in this case filtering for column cells with neuronal manual labels\n",
    "samples=merged_examples.query('neuron_class_labels ==\"excitatory\" | neuron_class_labels==\"inhibitory\"')\n",
    "samples.neuron_class_labels.value_counts()\n"
   ]
  },
  {
   "cell_type": "markdown",
   "metadata": {},
   "source": [
    "Shuffling the cells and keeping track of indices and metrics, zscoring the metrics"
   ]
  },
  {
   "cell_type": "code",
   "execution_count": 41,
   "metadata": {},
   "outputs": [],
   "source": [
    "#Label_col should be altered depending on the classifier\n",
    "label_col = 'neuron_class_labels'\n",
    "\n",
    "numfiles = samples.shape[0]\n",
    "all_idxs = np.arange(0, numfiles)\n",
    "np.random.seed(49)\n",
    "np.random.shuffle(all_idxs)\n",
    "\n",
    "scaler=preprocessing.StandardScaler().fit(samples[metrics])\n",
    "\n",
    "all_df = samples[metrics].iloc[all_idxs]\n",
    "all_dfs = scaler.transform(all_df)\n",
    "all_labels = samples[label_col].iloc[all_idxs]"
   ]
  },
  {
   "cell_type": "code",
   "execution_count": 43,
   "metadata": {},
   "outputs": [
    {
     "data": {
      "text/plain": [
       "excitatory    1147\n",
       "inhibitory     155\n",
       "Name: neuron_class_labels, dtype: int64"
      ]
     },
     "execution_count": 43,
     "metadata": {},
     "output_type": "execute_result"
    }
   ],
   "source": [
    "all_labels.value_counts()"
   ]
  },
  {
   "cell_type": "markdown",
   "metadata": {},
   "source": [
    "Binarizing the labels"
   ]
  },
  {
   "cell_type": "code",
   "execution_count": 44,
   "metadata": {},
   "outputs": [],
   "source": [
    "\n",
    "lb = preprocessing.LabelEncoder()\n",
    "lb.fit_transform(samples[label_col])\n",
    "uniq_labels=sorted(all_labels.unique())\n",
    "\n",
    "bin_all_labels = lb.transform(all_labels)\n",
    "# bin_train_labels = all_labels[train_idxs]\n",
    "# bin_val_labels = all_labels[test_idxs]\n",
    "\n"
   ]
  },
  {
   "cell_type": "markdown",
   "metadata": {},
   "source": [
    "### Hyperparameter Random Search Across Models"
   ]
  },
  {
   "cell_type": "code",
   "execution_count": 45,
   "metadata": {},
   "outputs": [],
   "source": [
    "import numpy as np\n",
    "import matplotlib.pyplot as plt\n",
    "from matplotlib.colors import ListedColormap\n",
    "from sklearn.model_selection import train_test_split\n",
    "from sklearn.preprocessing import StandardScaler\n",
    "from sklearn.datasets import make_moons, make_circles, make_classification\n",
    "from sklearn.neural_network import MLPClassifier\n",
    "from sklearn.neighbors import KNeighborsClassifier\n",
    "from sklearn.svm import SVC\n",
    "from sklearn.gaussian_process import GaussianProcessClassifier\n",
    "from sklearn.gaussian_process.kernels import RBF\n",
    "from sklearn.tree import DecisionTreeClassifier\n",
    "from sklearn.ensemble import RandomForestClassifier, AdaBoostClassifier\n",
    "from sklearn.naive_bayes import GaussianNB\n",
    "from sklearn.discriminant_analysis import QuadraticDiscriminantAnalysis\n",
    "\n",
    "# Type of classifiers to test\n",
    "names = [\"Nearest Neighbors\", \"Linear SVM\", \"RBF SVM\", \"Gaussian Process\",\n",
    "         \"Decision Tree\", \"Random Forest\", \"Neural Net\", \"AdaBoost\",\n",
    "         \"Naive Bayes\", \"QDA\"]\n",
    "\n",
    "classifiers = [\n",
    "    KNeighborsClassifier(3),\n",
    "    SVC(kernel=\"linear\", C=0.025),\n",
    "    SVC(gamma=2, C=1),\n",
    "    GaussianProcessClassifier(1.0 * RBF(1.0)),\n",
    "    DecisionTreeClassifier(max_depth=5),\n",
    "    RandomForestClassifier(max_depth=5, n_estimators=10, max_features=1),\n",
    "    MLPClassifier(alpha=1, max_iter=1000),\n",
    "    AdaBoostClassifier(),\n",
    "    GaussianNB(),\n",
    "    QuadraticDiscriminantAnalysis()]\n"
   ]
  },
  {
   "cell_type": "markdown",
   "metadata": {},
   "source": [
    "The hyperparameters for each type of model and the ranges/conditions within which to search"
   ]
  },
  {
   "cell_type": "code",
   "execution_count": 46,
   "metadata": {},
   "outputs": [],
   "source": [
    "dataset_params = {\n",
    "    'RBF SVM' : {'C': scipy.stats.expon(scale=10), 'gamma': scipy.stats.expon(scale=.1),\n",
    "                      'kernel': ['rbf'], 'class_weight':['balanced', None]},\n",
    "    'Linear SVM' : {'C': scipy.stats.expon(scale=10), 'gamma': scipy.stats.expon(scale=.1),\n",
    "                      'kernel': ['linear'], 'class_weight':['balanced', None]},\n",
    "    'Decision Tree': {'splitter':['best','random'], 'criterion':['gini', 'entropy'], \n",
    "                    'max_depth': scipy.stats.expon(scale=10),'min_samples_split': np.arange (0.01, 0.3, 0.02)},\n",
    "    'Random Forest': {'n_estimators':np.arange(1,20), 'criterion':['gini', 'entropy'], \n",
    "                    'max_depth': scipy.stats.expon(scale=10),'min_samples_split':np.arange (0.01, 0.3, 0.02)},\n",
    "    'Nearest Neighbors': {'n_neighbors':np.arange(5,100,20),'algorithm':['auto', 'ball_tree', 'kd_tree', 'brute'],\n",
    "                         'weights':['uniform','distance']},\n",
    "    'Neural Net': {'hidden_layer_sizes':np.arange(10,150,10),'activation':['identity','tanh','relu','logistic'],\n",
    "                  'solver':['sgd','adam'], 'alpha':scipy.stats.expon(scale=.1), 'learning_rate_init':scipy.stats.expon(scale=.1),\n",
    "                  'learning_rate':['constant', 'invscaling','adaptive']}\n",
    "    \n",
    "}"
   ]
  },
  {
   "cell_type": "markdown",
   "metadata": {},
   "source": [
    "Run a randomized hyperparamter search - for each type of classifier run X (n_iter_search) models with different parameters and report the top three performing models in each class"
   ]
  },
  {
   "cell_type": "code",
   "execution_count": 47,
   "metadata": {},
   "outputs": [
    {
     "name": "stderr",
     "output_type": "stream",
     "text": [
      "/Users/leilae/anaconda3/envs/micronsbinder/lib/python3.7/site-packages/sklearn/model_selection/_search.py:289: UserWarning: The total space of parameters 40 is smaller than n_iter=100. Running 40 iterations. For exhaustive searches, use GridSearchCV.\n",
      "  % (grid_size, self.n_iter, grid_size), UserWarning)\n"
     ]
    },
    {
     "name": "stdout",
     "output_type": "stream",
     "text": [
      "Nearest Neighbors\n",
      "RandomizedSearchCV took 2.25 seconds for 100 candidates parameter settings.\n",
      "Model with rank: 1\n",
      "Mean validation score: 0.981 (std: 0.013)\n",
      "Parameters: {'weights': 'uniform', 'n_neighbors': 5, 'algorithm': 'auto'}\n",
      "\n",
      "Model with rank: 1\n",
      "Mean validation score: 0.981 (std: 0.013)\n",
      "Parameters: {'weights': 'distance', 'n_neighbors': 5, 'algorithm': 'auto'}\n",
      "\n",
      "Model with rank: 1\n",
      "Mean validation score: 0.981 (std: 0.013)\n",
      "Parameters: {'weights': 'uniform', 'n_neighbors': 5, 'algorithm': 'ball_tree'}\n",
      "\n",
      "Model with rank: 1\n",
      "Mean validation score: 0.981 (std: 0.013)\n",
      "Parameters: {'weights': 'distance', 'n_neighbors': 5, 'algorithm': 'ball_tree'}\n",
      "\n",
      "Model with rank: 1\n",
      "Mean validation score: 0.981 (std: 0.013)\n",
      "Parameters: {'weights': 'uniform', 'n_neighbors': 5, 'algorithm': 'kd_tree'}\n",
      "\n",
      "Model with rank: 1\n",
      "Mean validation score: 0.981 (std: 0.013)\n",
      "Parameters: {'weights': 'distance', 'n_neighbors': 5, 'algorithm': 'kd_tree'}\n",
      "\n",
      "Model with rank: 1\n",
      "Mean validation score: 0.981 (std: 0.013)\n",
      "Parameters: {'weights': 'uniform', 'n_neighbors': 5, 'algorithm': 'brute'}\n",
      "\n",
      "Model with rank: 1\n",
      "Mean validation score: 0.981 (std: 0.013)\n",
      "Parameters: {'weights': 'distance', 'n_neighbors': 5, 'algorithm': 'brute'}\n",
      "\n",
      "Linear SVM\n",
      "RandomizedSearchCV took 8.04 seconds for 100 candidates parameter settings.\n",
      "Model with rank: 1\n",
      "Mean validation score: 0.981 (std: 0.008)\n",
      "Parameters: {'C': 12.041683725618178, 'class_weight': None, 'gamma': 0.0074386282389249355, 'kernel': 'linear'}\n",
      "\n",
      "Model with rank: 1\n",
      "Mean validation score: 0.981 (std: 0.008)\n",
      "Parameters: {'C': 18.94493441741453, 'class_weight': None, 'gamma': 0.20351009487392369, 'kernel': 'linear'}\n",
      "\n",
      "Model with rank: 1\n",
      "Mean validation score: 0.981 (std: 0.008)\n",
      "Parameters: {'C': 17.888044279622143, 'class_weight': None, 'gamma': 0.0737907931544841, 'kernel': 'linear'}\n",
      "\n",
      "Model with rank: 1\n",
      "Mean validation score: 0.981 (std: 0.008)\n",
      "Parameters: {'C': 13.376735649338203, 'class_weight': None, 'gamma': 0.01535283056146063, 'kernel': 'linear'}\n",
      "\n",
      "Model with rank: 1\n",
      "Mean validation score: 0.981 (std: 0.008)\n",
      "Parameters: {'C': 13.558415111134682, 'class_weight': None, 'gamma': 0.34738352571152487, 'kernel': 'linear'}\n",
      "\n",
      "Model with rank: 1\n",
      "Mean validation score: 0.981 (std: 0.008)\n",
      "Parameters: {'C': 15.163588761061021, 'class_weight': None, 'gamma': 0.003190609529595949, 'kernel': 'linear'}\n",
      "\n",
      "Model with rank: 1\n",
      "Mean validation score: 0.981 (std: 0.008)\n",
      "Parameters: {'C': 21.24217065734886, 'class_weight': None, 'gamma': 0.03206658364327765, 'kernel': 'linear'}\n",
      "\n",
      "Model with rank: 1\n",
      "Mean validation score: 0.981 (std: 0.008)\n",
      "Parameters: {'C': 14.733185742544281, 'class_weight': None, 'gamma': 0.018737296408715, 'kernel': 'linear'}\n",
      "\n",
      "Model with rank: 1\n",
      "Mean validation score: 0.981 (std: 0.008)\n",
      "Parameters: {'C': 11.514220685864299, 'class_weight': None, 'gamma': 0.3073314068362605, 'kernel': 'linear'}\n",
      "\n",
      "Model with rank: 1\n",
      "Mean validation score: 0.981 (std: 0.008)\n",
      "Parameters: {'C': 12.163204368458214, 'class_weight': None, 'gamma': 0.0643795097669566, 'kernel': 'linear'}\n",
      "\n",
      "RBF SVM\n",
      "RandomizedSearchCV took 6.53 seconds for 100 candidates parameter settings.\n",
      "Model with rank: 1\n",
      "Mean validation score: 0.987 (std: 0.007)\n",
      "Parameters: {'C': 30.301193046405828, 'class_weight': None, 'gamma': 0.018784243295200335, 'kernel': 'rbf'}\n",
      "\n",
      "Model with rank: 1\n",
      "Mean validation score: 0.987 (std: 0.007)\n",
      "Parameters: {'C': 24.766719234041478, 'class_weight': None, 'gamma': 0.022766912101859337, 'kernel': 'rbf'}\n",
      "\n",
      "Model with rank: 1\n",
      "Mean validation score: 0.987 (std: 0.007)\n",
      "Parameters: {'C': 35.98439358982671, 'class_weight': None, 'gamma': 0.02044612214267294, 'kernel': 'rbf'}\n",
      "\n",
      "Decision Tree\n",
      "RandomizedSearchCV took 2.18 seconds for 100 candidates parameter settings.\n",
      "Model with rank: 1\n",
      "Mean validation score: 0.978 (std: 0.009)\n",
      "Parameters: {'criterion': 'gini', 'max_depth': 16.215059346346777, 'min_samples_split': 0.01, 'splitter': 'random'}\n",
      "\n",
      "Model with rank: 2\n",
      "Mean validation score: 0.975 (std: 0.011)\n",
      "Parameters: {'criterion': 'gini', 'max_depth': 8.868355638358482, 'min_samples_split': 0.03, 'splitter': 'best'}\n",
      "\n",
      "Model with rank: 2\n",
      "Mean validation score: 0.975 (std: 0.011)\n",
      "Parameters: {'criterion': 'gini', 'max_depth': 13.674638238325072, 'min_samples_split': 0.06999999999999999, 'splitter': 'best'}\n",
      "\n",
      "Random Forest\n",
      "RandomizedSearchCV took 10.05 seconds for 100 candidates parameter settings.\n",
      "Model with rank: 1\n",
      "Mean validation score: 0.983 (std: 0.010)\n",
      "Parameters: {'criterion': 'gini', 'max_depth': 16.43435724051285, 'min_samples_split': 0.01, 'n_estimators': 18}\n",
      "\n",
      "Model with rank: 2\n",
      "Mean validation score: 0.977 (std: 0.010)\n",
      "Parameters: {'criterion': 'entropy', 'max_depth': 20.010677714786272, 'min_samples_split': 0.03, 'n_estimators': 13}\n",
      "\n",
      "Model with rank: 3\n",
      "Mean validation score: 0.976 (std: 0.015)\n",
      "Parameters: {'criterion': 'entropy', 'max_depth': 13.47661021843676, 'min_samples_split': 0.01, 'n_estimators': 7}\n",
      "\n",
      "Neural Net\n",
      "RandomizedSearchCV took 131.81 seconds for 100 candidates parameter settings.\n",
      "Model with rank: 1\n",
      "Mean validation score: 0.989 (std: 0.003)\n",
      "Parameters: {'activation': 'tanh', 'alpha': 0.03422478666968675, 'hidden_layer_sizes': 50, 'learning_rate': 'constant', 'learning_rate_init': 0.1515018639546186, 'solver': 'sgd'}\n",
      "\n",
      "Model with rank: 2\n",
      "Mean validation score: 0.989 (std: 0.006)\n",
      "Parameters: {'activation': 'relu', 'alpha': 0.0999604508441123, 'hidden_layer_sizes': 60, 'learning_rate': 'constant', 'learning_rate_init': 0.02645981124377475, 'solver': 'adam'}\n",
      "\n",
      "Model with rank: 3\n",
      "Mean validation score: 0.988 (std: 0.006)\n",
      "Parameters: {'activation': 'relu', 'alpha': 0.03303318021545648, 'hidden_layer_sizes': 70, 'learning_rate': 'constant', 'learning_rate_init': 0.055707083366178904, 'solver': 'adam'}\n",
      "\n"
     ]
    }
   ],
   "source": [
    "\n",
    "for ds_cnt, ds in enumerate(classifiers):\n",
    "    name = names[ds_cnt]\n",
    "    if name in dataset_params.keys():\n",
    "        n_iter_search = 100\n",
    "        random_search = RandomizedSearchCV(ds, param_distributions=dataset_params[name], #refit = 'recall',\n",
    "                                   n_iter=n_iter_search) #scoring = ['accuracy','f1', 'recall', 'precision'])\n",
    "        \n",
    "        start = time()\n",
    "        random_search.fit(all_dfs, bin_all_labels)\n",
    "        print(name)\n",
    "        print(\"RandomizedSearchCV took %.2f seconds for %d candidates\"\n",
    "              \" parameter settings.\" % ((time() - start), n_iter_search))\n",
    "        report(random_search.cv_results_)"
   ]
  },
  {
   "cell_type": "markdown",
   "metadata": {},
   "source": [
    "### Top Performing Model"
   ]
  },
  {
   "cell_type": "code",
   "execution_count": 49,
   "metadata": {},
   "outputs": [
    {
     "name": "stdout",
     "output_type": "stream",
     "text": [
      "CrossVal Accuracy: 0.9831,CrossVal Precision: 0.9829, CrossVal Recall: 0.9831, CrossVal F1 Score: 0.9828\n",
      "Test Accuracy: 0.9862,Test Precision: 0.9861, Test Recall: 0.9862, Test F1 Score: 0.9860\n"
     ]
    },
    {
     "data": {
      "image/png": "[encoded data removed]",
      "text/plain": [
       "<Figure size 720x504 with 2 Axes>"
      ]
     },
     "metadata": {
      "needs_background": "light"
     },
     "output_type": "display_data"
    },
    {
     "data": {
      "image/png": "[encoded data removed]",
      "text/plain": [
       "<Figure size 720x504 with 2 Axes>"
      ]
     },
     "metadata": {
      "needs_background": "light"
     },
     "output_type": "display_data"
    }
   ],
   "source": [
    "ordered_labels = sorted(samples[label_col].unique())\n",
    "\n",
    "#reported params from randomized search above\n",
    "params = {'activation': 'tanh', 'alpha': 0.02779055400477684, 'hidden_layer_sizes': 100,\n",
    "          'learning_rate': 'constant', 'learning_rate_init': 0.020304839764349877, 'solver': 'adam'}\n",
    "\n",
    "\n",
    "mlp_model_base = MLPClassifier(activation= 'tanh', \n",
    "                              alpha= 0.02779055400477684, \n",
    "                              hidden_layer_sizes= 100,\n",
    "                              learning_rate= 'adaptive', \n",
    "                              learning_rate_init= 0.00020304839764349877, \n",
    "                              solver= 'adam',\n",
    "                              max_iter=1000)\n",
    "\n",
    "#Train and plot the crossvalidated accuracy (the one that comes out of training) and the performance on the entire column. The column accuracy here (printed as 'Test Accuracy') is mainly for the \n",
    "#user to gauge if we are overfitting or not.\n",
    "mlp_model, cross_pred, mlp_cm = train_model(all_dfs,bin_all_labels, mlp_model_base, ordered_labels)\n",
    "cross_accuracy = accuracy_score(bin_all_labels, cross_pred)\n",
    "cross_f1 = f1_score(bin_all_labels, cross_pred, average='weighted', zero_division=0)\n",
    "cross_recall = recall_score(bin_all_labels, cross_pred, average='weighted', zero_division=0)\n",
    "cross_precision = precision_score(bin_all_labels,cross_pred, average='weighted', zero_division=0)\n",
    "print('CrossVal Accuracy: %.4f,CrossVal Precision: %.4f, CrossVal Recall: %.4f, CrossVal F1 Score: %.4f'%(cross_accuracy, cross_precision, cross_recall, cross_f1))\n",
    "\n",
    "#Running a final prediction on the entire column to gauge overfitting\n",
    "mlp_model, train_mlp_cm, train_pred  = test_model(mlp_model,all_dfs,bin_all_labels, ordered_labels)\n",
    "\n",
    "plot_cm(mlp_cm, save_fig=False)\n",
    "plot_cm(train_mlp_cm, save_fig=False)"
   ]
  },
  {
   "cell_type": "markdown",
   "metadata": {},
   "source": [
    "Save the model"
   ]
  },
  {
   "cell_type": "code",
   "execution_count": 16,
   "metadata": {},
   "outputs": [],
   "source": [
    "import pickle\n",
    "from joblib import dump, load"
   ]
  },
  {
   "cell_type": "code",
   "execution_count": 17,
   "metadata": {},
   "outputs": [],
   "source": [
    "output_filepath = '../mlp_neuron_class_type_soma_model_080923.pkl'\n",
    "with open(output_filepath,'wb') as f:\n",
    "    pickle.dump(mlp_model,f)"
   ]
  }
 ],
 "metadata": {
  "kernelspec": {
   "display_name": "Python 3 (ipykernel)",
   "language": "python",
   "name": "python3"
  },
  "language_info": {
   "codemirror_mode": {
    "name": "ipython",
    "version": 3
   },
   "file_extension": ".py",
   "mimetype": "text/x-python",
   "name": "python",
   "nbconvert_exporter": "python",
   "pygments_lexer": "ipython3",
   "version": "3.9.12"
  }
 },
 "nbformat": 4,
 "nbformat_minor": 2
}
