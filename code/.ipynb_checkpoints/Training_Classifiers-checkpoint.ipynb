{
 "cells": [
  {
   "cell_type": "markdown",
   "metadata": {},
   "source": [
    "# Training Classifiers\n",
    "\n",
    "This notebook uses modified code to test model predictions of different fly behavioral states. "
   ]
  },
  {
   "cell_type": "code",
   "execution_count": 30,
   "metadata": {},
   "outputs": [],
   "source": [
    "import pandas as pd\n",
    "import numpy as np\n",
    "from time import time\n",
    "import matplotlib.pyplot as plt\n",
    "from sklearn.metrics import confusion_matrix, f1_score, recall_score,  accuracy_score, precision_score\n",
    "from sklearn.model_selection import  RandomizedSearchCV\n",
    "\n",
    "import scipy\n",
    "from sklearn.model_selection import  cross_val_predict \n",
    "\n",
    "import matplotlib.pyplot as plt\n",
    "import seaborn as sn\n",
    "import pathlib\n",
    "from sklearn import preprocessing\n",
    "lb = preprocessing.LabelEncoder()"
   ]
  },
  {
   "cell_type": "markdown",
   "metadata": {},
   "source": [
    "### Reading in the data "
   ]
  },
  {
   "cell_type": "code",
   "execution_count": 48,
   "metadata": {},
   "outputs": [],
   "source": [
    "filename = 'CxHP8_gtACR1_grooming_trials_updated_annotations.pq'\n",
    "file_path = pathlib.Path.cwd().parent.joinpath('data')\n",
    "data = pd.read_parquet(file_path.joinpath(filename), engine='pyarrow')\n",
    "\n",
    "# filter data to include data w/ behavior labels\n",
    "# data = data[~np.isnan(data['behavior_id'].values)].reset_index(drop=True)\n",
    "\n",
    "# create an other category (need this for truly assessing the dataset)\n",
    "data.loc[np.isnan(data['behavior_id'].values), 'behavior_annotations'] = 'other'\n",
    "data.loc[np.isnan(data['behavior_id'].values), 'behavior_id'] = 7"
   ]
  },
  {
   "cell_type": "markdown",
   "metadata": {},
   "source": [
    "### Defining Behavioral Features For Prediction "
   ]
  },
  {
   "cell_type": "code",
   "execution_count": 50,
   "metadata": {},
   "outputs": [
    {
     "name": "stdout",
     "output_type": "stream",
     "text": [
      "number of features in set 1 = 153\n",
      "number of features in set 2 = 9\n"
     ]
    }
   ],
   "source": [
    "feature_set_1 = [\n",
    " 'fictrac_delta_rot_lab_x_mms',\n",
    " 'fictrac_delta_rot_lab_y_mms',\n",
    " 'fictrac_delta_rot_lab_z_mms',\n",
    " 'L1A_rot',\n",
    " 'R1A_rot',\n",
    " 'L2A_rot',\n",
    " 'R2A_rot',\n",
    " 'L3A_rot',\n",
    " 'R3A_rot',\n",
    " 'L1B_rot',\n",
    " 'R1B_rot',\n",
    " 'L2B_rot',\n",
    " 'R2B_rot',\n",
    " 'L3B_rot',\n",
    " 'R3B_rot',\n",
    " 'L1C_rot',\n",
    " 'R1C_rot',\n",
    " 'L2C_rot',\n",
    " 'R2C_rot',\n",
    " 'L3C_rot',\n",
    " 'R3C_rot',\n",
    " 'L1A_flex',\n",
    " 'R1A_flex',\n",
    " 'L2A_flex',\n",
    " 'R2A_flex',\n",
    " 'L3A_flex',\n",
    " 'R3A_flex',\n",
    " 'L1B_flex',\n",
    " 'R1B_flex',\n",
    " 'L2B_flex',\n",
    " 'R2B_flex',\n",
    " 'L3B_flex',\n",
    " 'R3B_flex',\n",
    " 'L1C_flex',\n",
    " 'R1C_flex',\n",
    " 'L2C_flex',\n",
    " 'R2C_flex',\n",
    " 'L3C_flex',\n",
    " 'R3C_flex',\n",
    " 'L1D_flex',\n",
    " 'R1D_flex',\n",
    " 'L2D_flex',\n",
    " 'R2D_flex',\n",
    " 'L3D_flex',\n",
    " 'R3D_flex',\n",
    " 'L1A_abduct',\n",
    " 'R1A_abduct',\n",
    " 'L2A_abduct',\n",
    " 'R2A_abduct',\n",
    " 'L3A_abduct',\n",
    " 'R3A_abduct',\n",
    " 'L1A_rot_d1',\n",
    " 'L1A_rot_d2',\n",
    " 'R1A_rot_d1',\n",
    " 'R1A_rot_d2',\n",
    " 'L2A_rot_d1',\n",
    " 'L2A_rot_d2',\n",
    " 'R2A_rot_d1',\n",
    " 'R2A_rot_d2',\n",
    " 'L3A_rot_d1',\n",
    " 'L3A_rot_d2',\n",
    " 'R3A_rot_d1',\n",
    " 'R3A_rot_d2',\n",
    " 'L1B_rot_d1',\n",
    " 'L1B_rot_d2',\n",
    " 'R1B_rot_d1',\n",
    " 'R1B_rot_d2',\n",
    " 'L2B_rot_d1',\n",
    " 'L2B_rot_d2',\n",
    " 'R2B_rot_d1',\n",
    " 'R2B_rot_d2',\n",
    " 'L3B_rot_d1',\n",
    " 'L3B_rot_d2',\n",
    " 'R3B_rot_d1',\n",
    " 'R3B_rot_d2',\n",
    " 'L1C_rot_d1',\n",
    " 'L1C_rot_d2',\n",
    " 'R1C_rot_d1',\n",
    " 'R1C_rot_d2',\n",
    " 'L2C_rot_d1',\n",
    " 'L2C_rot_d2',\n",
    " 'R2C_rot_d1',\n",
    " 'R2C_rot_d2',\n",
    " 'L3C_rot_d1',\n",
    " 'L3C_rot_d2',\n",
    " 'R3C_rot_d1',\n",
    " 'R3C_rot_d2',\n",
    " 'L1A_flex_d1',\n",
    " 'L1A_flex_d2',\n",
    " 'R1A_flex_d1',\n",
    " 'R1A_flex_d2',\n",
    " 'L2A_flex_d1',\n",
    " 'L2A_flex_d2',\n",
    " 'R2A_flex_d1',\n",
    " 'R2A_flex_d2',\n",
    " 'L3A_flex_d1',\n",
    " 'L3A_flex_d2',\n",
    " 'R3A_flex_d1',\n",
    " 'R3A_flex_d2',\n",
    " 'L1B_flex_d1',\n",
    " 'L1B_flex_d2',\n",
    " 'R1B_flex_d1',\n",
    " 'R1B_flex_d2',\n",
    " 'L2B_flex_d1',\n",
    " 'L2B_flex_d2',\n",
    " 'R2B_flex_d1',\n",
    " 'R2B_flex_d2',\n",
    " 'L3B_flex_d1',\n",
    " 'L3B_flex_d2',\n",
    " 'R3B_flex_d1',\n",
    " 'R3B_flex_d2',\n",
    " 'L1C_flex_d1',\n",
    " 'L1C_flex_d2',\n",
    " 'R1C_flex_d1',\n",
    " 'R1C_flex_d2',\n",
    " 'L2C_flex_d1',\n",
    " 'L2C_flex_d2',\n",
    " 'R2C_flex_d1',\n",
    " 'R2C_flex_d2',\n",
    " 'L3C_flex_d1',\n",
    " 'L3C_flex_d2',\n",
    " 'R3C_flex_d1',\n",
    " 'R3C_flex_d2',\n",
    " 'L1D_flex_d1',\n",
    " 'L1D_flex_d2',\n",
    " 'R1D_flex_d1',\n",
    " 'R1D_flex_d2',\n",
    " 'L2D_flex_d1',\n",
    " 'L2D_flex_d2',\n",
    " 'R2D_flex_d1',\n",
    " 'R2D_flex_d2',\n",
    " 'L3D_flex_d1',\n",
    " 'L3D_flex_d2',\n",
    " 'R3D_flex_d1',\n",
    " 'R3D_flex_d2',\n",
    " 'L1A_abduct_d1',\n",
    " 'L1A_abduct_d2',\n",
    " 'R1A_abduct_d1',\n",
    " 'R1A_abduct_d2',\n",
    " 'L2A_abduct_d1',\n",
    " 'L2A_abduct_d2',\n",
    " 'R2A_abduct_d1',\n",
    " 'R2A_abduct_d2',\n",
    " 'L3A_abduct_d1',\n",
    " 'L3A_abduct_d2',\n",
    " 'R3A_abduct_d1',\n",
    " 'R3A_abduct_d2',\n",
    " 'L1_smoothed_velo',\n",
    " 'L2_smoothed_velo',\n",
    " 'L3_smoothed_velo',\n",
    " 'R1_smoothed_velo',\n",
    " 'R2_smoothed_velo',\n",
    " 'R3_smoothed_velo',\n",
    "]\n",
    "\n",
    "feature_set_2 =[\n",
    " 'L1_smoothed_velo',\n",
    " 'L2_smoothed_velo',\n",
    " 'L3_smoothed_velo',\n",
    " 'R1_smoothed_velo',\n",
    " 'R2_smoothed_velo',\n",
    " 'R3_smoothed_velo',\n",
    " 'fictrac_delta_rot_lab_x_mms',\n",
    " 'fictrac_delta_rot_lab_y_mms',\n",
    " 'fictrac_delta_rot_lab_z_mms',\n",
    "]\n",
    "\n",
    "print(f'number of features in set 1 = {len(feature_set_1)}')\n",
    "print(f'number of features in set 2 = {len(feature_set_2)}')"
   ]
  },
  {
   "cell_type": "markdown",
   "metadata": {},
   "source": [
    "### Helpful Functions"
   ]
  },
  {
   "cell_type": "code",
   "execution_count": 51,
   "metadata": {},
   "outputs": [],
   "source": [
    "def train_model(data,labels, model, ordered_labels, cv=10):\n",
    "    '''Training a given classifier using x-fold cross validation. Returns the model, predictions and confusion matrix'''\n",
    "    y_pred = cross_val_predict(model, data, labels, cv=cv)\n",
    "    conf_mat = confusion_matrix(labels, y_pred) \n",
    "    df_cm = pd.DataFrame(conf_mat, index = ordered_labels,\n",
    "                      columns = ordered_labels)\n",
    "    train_model = model.fit(data, labels)\n",
    "    return train_model, y_pred, df_cm\n",
    "\n",
    "def plot_cm(df_cm, save_fig=False, filename='', cmap=\"BuPu\"):\n",
    "    '''Plots a confusion matrix with a given cmap'''\n",
    "    plt.figure(figsize = (10,7))\n",
    "    sn.heatmap(df_cm, annot=True, cmap=cmap,fmt='g')\n",
    "    plt.xlabel('prediction')\n",
    "    plt.ylabel('ground truth')\n",
    "    if save_fig:\n",
    "        plt.savefig(filename)\n",
    "\n",
    "def test_model(model,test_data,test_labels, ordered_labels):\n",
    "    '''Runs prediction of a trained model and returns the model, confusion matrix and predictions'''\n",
    "    final_pred = model.predict(test_data)\n",
    "    test_accuracy = model.score(test_data, test_labels) \n",
    "    test_f1 = f1_score(test_labels, final_pred, average='weighted')\n",
    "    test_recall = recall_score(test_labels, final_pred, average='weighted')\n",
    "    test_precision = precision_score(test_labels,final_pred, average='weighted')\n",
    "    print('Test Accuracy: %.4f,Test Precision: %.4f, Test Recall: %.4f, Test F1 Score: %.4f'%(test_accuracy, test_precision, test_recall, test_f1))\n",
    "\n",
    "    conf_mat = confusion_matrix(test_labels, final_pred) \n",
    "\n",
    "    df_cm = pd.DataFrame(conf_mat, index = ordered_labels,\n",
    "                      columns = ordered_labels)\n",
    "    return model, df_cm, final_pred\n",
    "\n",
    "\n",
    "\n",
    "def report(results, n_top=3):\n",
    "    '''Utility function to report best scores'''\n",
    "    for i in range(1, n_top + 1):\n",
    "        candidates = np.flatnonzero(results['rank_test_score'] == i)\n",
    "        for candidate in candidates:\n",
    "            print(\"Model with rank: {0}\".format(i))\n",
    "            print(\"Mean validation score: {0:.3f} (std: {1:.3f})\"\n",
    "                  .format(results['mean_test_score'][candidate],\n",
    "                          results['std_test_score'][candidate]))\n",
    "            print(\"Parameters: {0}\".format(results['params'][candidate]))\n",
    "            print(\"\")\n",
    "            "
   ]
  },
  {
   "cell_type": "markdown",
   "metadata": {},
   "source": [
    "## Preparing the Data\n",
    "### Predicting behavioral classes -- Include \"other\" class (val 0)"
   ]
  },
  {
   "cell_type": "code",
   "execution_count": 53,
   "metadata": {},
   "outputs": [
    {
     "data": {
      "text/plain": [
       "0        t1_grooming\n",
       "1        t1_grooming\n",
       "2        t1_grooming\n",
       "3        t1_grooming\n",
       "4        t1_grooming\n",
       "            ...     \n",
       "19795          other\n",
       "19796          other\n",
       "19797          other\n",
       "19798          other\n",
       "19799          other\n",
       "Name: behavior_annotations, Length: 19800, dtype: object"
      ]
     },
     "execution_count": 53,
     "metadata": {},
     "output_type": "execute_result"
    }
   ],
   "source": [
    "data['behavior_annotations']"
   ]
  },
  {
   "cell_type": "code",
   "execution_count": 52,
   "metadata": {},
   "outputs": [
    {
     "name": "stdout",
     "output_type": "stream",
     "text": [
      "Behavior Counts:\n",
      "t1_grooming          6321\n",
      "other                5624\n",
      "walking              3328\n",
      "antennae_grooming    1806\n",
      "standing             1592\n",
      "t3_grooming           648\n",
      "abdomen_grooming      348\n",
      "ball_push             133\n",
      "Name: behavior_annotations, dtype: int64\n"
     ]
    }
   ],
   "source": [
    "print(f'Behavior Counts:')\n",
    "print(data['behavior_annotations'].value_counts())\n",
    "\n",
    "# prune dataset based on chosen feature set\n",
    "features = feature_set_1\n",
    "behaviors = data['behavior_annotations'].values\n",
    "labels = data['behavior_id'].values.astype(int)\n",
    "\n",
    "# behaviors to label correspndence\n",
    "val, idx = np.unique(labels, return_index=True)\n",
    "beh_labels = behaviors[idx]\n",
    "\n",
    "# filter data\n",
    "data_filt = data[features]\n",
    "scaler=preprocessing.StandardScaler().fit(data_filt)  # apply standard scalar\n",
    "\n",
    "# randomly permute indices\n",
    "random_idxs = np.random.permutation(len(labels))\n",
    "resort_behaviors = behaviors[random_idxs]\n",
    "resort_labels = labels[random_idxs]\n",
    "resort_data = scaler.transform(data_filt.iloc[random_idxs])"
   ]
  },
  {
   "cell_type": "markdown",
   "metadata": {},
   "source": [
    "### Hyperparameter Random Search Across Models"
   ]
  },
  {
   "cell_type": "code",
   "execution_count": 56,
   "metadata": {},
   "outputs": [],
   "source": [
    "import numpy as np\n",
    "import matplotlib.pyplot as plt\n",
    "from matplotlib.colors import ListedColormap\n",
    "from sklearn.model_selection import train_test_split\n",
    "from sklearn.preprocessing import StandardScaler\n",
    "from sklearn.datasets import make_moons, make_circles, make_classification\n",
    "from sklearn.neural_network import MLPClassifier\n",
    "from sklearn.neighbors import KNeighborsClassifier\n",
    "from sklearn.svm import SVC\n",
    "from sklearn.gaussian_process import GaussianProcessClassifier\n",
    "from sklearn.gaussian_process.kernels import RBF\n",
    "from sklearn.tree import DecisionTreeClassifier\n",
    "from sklearn.ensemble import RandomForestClassifier, AdaBoostClassifier\n",
    "from sklearn.naive_bayes import GaussianNB\n",
    "from sklearn.discriminant_analysis import QuadraticDiscriminantAnalysis\n",
    "\n",
    "# Type of classifiers to test\n",
    "names = [\"Nearest Neighbors\", \"Linear SVM\", \"RBF SVM\", \"Gaussian Process\",\n",
    "         \"Decision Tree\", \"Random Forest\", \"Neural Net\", \"AdaBoost\",\n",
    "         \"Naive Bayes\", \"QDA\"]\n",
    "\n",
    "classifiers = [\n",
    "    KNeighborsClassifier(),\n",
    "    SVC(),\n",
    "    SVC(),\n",
    "    GaussianProcessClassifier(),\n",
    "    DecisionTreeClassifier(),\n",
    "    RandomForestClassifier(),\n",
    "    MLPClassifier(max_iter=5000),\n",
    "    AdaBoostClassifier(),\n",
    "    GaussianNB(),\n",
    "    QuadraticDiscriminantAnalysis()]\n"
   ]
  },
  {
   "cell_type": "markdown",
   "metadata": {},
   "source": [
    "The hyperparameters for each type of model and the ranges/conditions within which to search"
   ]
  },
  {
   "cell_type": "code",
   "execution_count": 8,
   "metadata": {},
   "outputs": [],
   "source": [
    "dataset_params = {\n",
    "    'RBF SVM' : {'C': np.array([0.01, 1, 10]), 'gamma': ['scale', 'auto'],\n",
    "                      'kernel': ['rbf'], 'class_weight':['balanced', None]},\n",
    "    'Linear SVM' : {'C': np.array([0.01, 1, 10]),\n",
    "                      'kernel': ['linear'], 'class_weight':['balanced', None]},\n",
    "    'Decision Tree': {'splitter':['best','random'], 'criterion':['gini', 'entropy']},\n",
    "    'Random Forest': {'n_estimators':np.arange(10, 110, 10), 'criterion':['gini', 'entropy']},\n",
    "    'Nearest Neighbors': {'n_neighbors':np.arange(5, 105, 10),'algorithm':['auto', 'ball_tree', 'brute'],\n",
    "                         'weights':['uniform','distance']},\n",
    "    'Neural Net': {'hidden_layer_sizes':np.arange(10,150,10),'activation':['identity','tanh','relu','logistic'],\n",
    "                  'solver':['sgd','adam'], 'alpha': np.array([0.001, 0.01, 0.1, 1]), 'learning_rate_init': np.array([0.1, 0.01, 0.001, 0.0001]),\n",
    "                  'learning_rate':['constant', 'adaptive']} \n",
    "}"
   ]
  },
  {
   "cell_type": "markdown",
   "metadata": {},
   "source": [
    "Run a randomized hyperparamter search - for each type of classifier run X (n_iter_search) models with different parameters and report the top three performing models in each class"
   ]
  },
  {
   "cell_type": "code",
   "execution_count": 7,
   "metadata": {},
   "outputs": [],
   "source": [
    "# import warnings filter\n",
    "from warnings import simplefilter\n",
    "# ignore all future warnings\n",
    "simplefilter(action='ignore', category=FutureWarning)"
   ]
  },
  {
   "cell_type": "code",
   "execution_count": 10,
   "metadata": {},
   "outputs": [
    {
     "name": "stdout",
     "output_type": "stream",
     "text": [
      "Nearest Neighbors\n",
      "RandomizedSearchCV took 125.25 seconds for 5 candidates parameter settings.\n",
      "Model with rank: 1\n",
      "Mean validation score: 0.921 (std: 0.008)\n",
      "Parameters: {'weights': 'distance', 'n_neighbors': 25, 'algorithm': 'ball_tree'}\n",
      "\n",
      "Model with rank: 2\n",
      "Mean validation score: 0.903 (std: 0.007)\n",
      "Parameters: {'weights': 'uniform', 'n_neighbors': 25, 'algorithm': 'auto'}\n",
      "\n",
      "Model with rank: 3\n",
      "Mean validation score: 0.895 (std: 0.006)\n",
      "Parameters: {'weights': 'distance', 'n_neighbors': 35, 'algorithm': 'ball_tree'}\n",
      "\n",
      "Linear SVM\n",
      "RandomizedSearchCV took 46.08 seconds for 5 candidates parameter settings.\n",
      "Model with rank: 1\n",
      "Mean validation score: 0.999 (std: 0.001)\n",
      "Parameters: {'kernel': 'linear', 'class_weight': None, 'C': 10.0}\n",
      "\n",
      "Model with rank: 2\n",
      "Mean validation score: 0.998 (std: 0.001)\n",
      "Parameters: {'kernel': 'linear', 'class_weight': 'balanced', 'C': 1.0}\n",
      "\n",
      "Model with rank: 3\n",
      "Mean validation score: 0.998 (std: 0.001)\n",
      "Parameters: {'kernel': 'linear', 'class_weight': None, 'C': 1.0}\n",
      "\n",
      "Model with rank: 3\n",
      "Mean validation score: 0.998 (std: 0.000)\n",
      "Parameters: {'kernel': 'linear', 'class_weight': 'balanced', 'C': 10.0}\n",
      "\n",
      "RBF SVM\n",
      "RandomizedSearchCV took 308.49 seconds for 5 candidates parameter settings.\n",
      "Model with rank: 1\n",
      "Mean validation score: 0.990 (std: 0.002)\n",
      "Parameters: {'kernel': 'rbf', 'gamma': 'scale', 'class_weight': None, 'C': 10.0}\n",
      "\n",
      "Model with rank: 2\n",
      "Mean validation score: 0.990 (std: 0.002)\n",
      "Parameters: {'kernel': 'rbf', 'gamma': 'scale', 'class_weight': 'balanced', 'C': 10.0}\n",
      "\n",
      "Model with rank: 3\n",
      "Mean validation score: 0.978 (std: 0.003)\n",
      "Parameters: {'kernel': 'rbf', 'gamma': 'auto', 'class_weight': 'balanced', 'C': 1.0}\n",
      "\n",
      "Model with rank: 3\n",
      "Mean validation score: 0.978 (std: 0.003)\n",
      "Parameters: {'kernel': 'rbf', 'gamma': 'scale', 'class_weight': 'balanced', 'C': 1.0}\n",
      "\n"
     ]
    },
    {
     "name": "stderr",
     "output_type": "stream",
     "text": [
      "C:\\Users\\pratt\\anaconda3\\lib\\site-packages\\sklearn\\model_selection\\_search.py:292: UserWarning: The total space of parameters 4 is smaller than n_iter=5. Running 4 iterations. For exhaustive searches, use GridSearchCV.\n",
      "  warnings.warn(\n"
     ]
    },
    {
     "name": "stdout",
     "output_type": "stream",
     "text": [
      "Decision Tree\n",
      "RandomizedSearchCV took 37.41 seconds for 5 candidates parameter settings.\n",
      "Model with rank: 1\n",
      "Mean validation score: 0.987 (std: 0.002)\n",
      "Parameters: {'splitter': 'best', 'criterion': 'entropy'}\n",
      "\n",
      "Model with rank: 2\n",
      "Mean validation score: 0.986 (std: 0.002)\n",
      "Parameters: {'splitter': 'best', 'criterion': 'gini'}\n",
      "\n",
      "Model with rank: 3\n",
      "Mean validation score: 0.986 (std: 0.002)\n",
      "Parameters: {'splitter': 'random', 'criterion': 'gini'}\n",
      "\n",
      "Random Forest\n",
      "RandomizedSearchCV took 181.13 seconds for 5 candidates parameter settings.\n",
      "Model with rank: 1\n",
      "Mean validation score: 0.999 (std: 0.001)\n",
      "Parameters: {'n_estimators': 80, 'criterion': 'entropy'}\n",
      "\n",
      "Model with rank: 1\n",
      "Mean validation score: 0.999 (std: 0.001)\n",
      "Parameters: {'n_estimators': 30, 'criterion': 'gini'}\n",
      "\n",
      "Model with rank: 3\n",
      "Mean validation score: 0.999 (std: 0.001)\n",
      "Parameters: {'n_estimators': 50, 'criterion': 'gini'}\n",
      "\n",
      "Neural Net\n",
      "RandomizedSearchCV took 382.63 seconds for 5 candidates parameter settings.\n",
      "Model with rank: 1\n",
      "Mean validation score: 0.999 (std: 0.001)\n",
      "Parameters: {'solver': 'adam', 'learning_rate_init': 0.01, 'learning_rate': 'constant', 'hidden_layer_sizes': 80, 'alpha': 0.001, 'activation': 'relu'}\n",
      "\n",
      "Model with rank: 2\n",
      "Mean validation score: 0.995 (std: 0.001)\n",
      "Parameters: {'solver': 'sgd', 'learning_rate_init': 0.01, 'learning_rate': 'constant', 'hidden_layer_sizes': 100, 'alpha': 0.001, 'activation': 'identity'}\n",
      "\n",
      "Model with rank: 3\n",
      "Mean validation score: 0.994 (std: 0.001)\n",
      "Parameters: {'solver': 'sgd', 'learning_rate_init': 0.01, 'learning_rate': 'adaptive', 'hidden_layer_sizes': 120, 'alpha': 0.1, 'activation': 'logistic'}\n",
      "\n"
     ]
    }
   ],
   "source": [
    "# Random search for best classifier and parameter set\n",
    "n_iter_search = 5\n",
    "for ds_cnt, ds in enumerate(classifiers):\n",
    "    name = names[ds_cnt]\n",
    "    if name in dataset_params.keys():\n",
    "        random_search = RandomizedSearchCV(ds, param_distributions=dataset_params[name], n_iter=n_iter_search, cv=5) #scoring = ['accuracy','f1', 'recall', 'precision'])\n",
    "        \n",
    "        start = time()\n",
    "        random_search.fit(resort_data, resort_labels)\n",
    "        print(name)\n",
    "        print(\"RandomizedSearchCV took %.2f seconds for %d candidates\"\n",
    "              \" parameter settings.\" % ((time() - start), n_iter_search))\n",
    "        report(random_search.cv_results_)"
   ]
  },
  {
   "cell_type": "markdown",
   "metadata": {},
   "source": [
    "### Grid search over the best performing models"
   ]
  },
  {
   "cell_type": "code",
   "execution_count": 58,
   "metadata": {},
   "outputs": [],
   "source": [
    "from sklearn.model_selection import GridSearchCV"
   ]
  },
  {
   "cell_type": "code",
   "execution_count": 61,
   "metadata": {},
   "outputs": [],
   "source": [
    "'''OLD'''\n",
    "# grid_params = {\n",
    "#     'Linear SVM' : {'C': np.array([0.01, 1, 10]),'kernel': ['linear'], 'class_weight':['balanced', None]},\n",
    "#     'Random Forest': {'n_estimators':np.arange(10, 150, 10), 'criterion':['gini', 'entropy']},\n",
    "#     'Neural Net': {'hidden_layer_sizes':np.array([80, 100, 120]),'activation':['identity','relu'],\n",
    "#                   'solver':['adam', 'sgd'], 'alpha': np.array([0.001, 0.1]), 'learning_rate_init': np.array([0.01, 0.0001]),\n",
    "#                   'learning_rate':['constant', 'adaptive'], 'max_iter': np.array([1000, 5000])} \n",
    "# }\n",
    "\n",
    "# # Grid search on Neural Net\n",
    "# grid_names = ['Neural Net']\n",
    "# grid_models = [MLPClassifier()]\n",
    "\n",
    "'''NEW'''\n",
    "grid_params = {\n",
    "    'Linear SVM' : {'C': np.array([0.01, 1, 10]),'kernel': ['linear'], 'class_weight':['balanced', None]},\n",
    "    'Random Forest': {'n_estimators':np.arange(10, 150, 10), 'criterion':['gini', 'entropy']}\n",
    "}\n",
    "grid_names = ['Linear SVM', 'Random Forest']\n",
    "grid_models = [SVC(), RandomForestClassifier()]"
   ]
  },
  {
   "cell_type": "code",
   "execution_count": 62,
   "metadata": {},
   "outputs": [
    {
     "name": "stdout",
     "output_type": "stream",
     "text": [
      "Linear SVM\n",
      "GridSearchCV took 4792.992547035217 seconds\n",
      "Model with rank: 1\n",
      "Mean validation score: 0.927 (std: 0.005)\n",
      "Parameters: {'C': 10.0, 'class_weight': None, 'kernel': 'linear'}\n",
      "\n",
      "Model with rank: 2\n",
      "Mean validation score: 0.926 (std: 0.004)\n",
      "Parameters: {'C': 1.0, 'class_weight': None, 'kernel': 'linear'}\n",
      "\n",
      "Model with rank: 3\n",
      "Mean validation score: 0.926 (std: 0.004)\n",
      "Parameters: {'C': 10.0, 'class_weight': 'balanced', 'kernel': 'linear'}\n",
      "\n",
      "{'C': 10.0, 'class_weight': None, 'kernel': 'linear'}\n",
      "Random Forest\n",
      "GridSearchCV took 6346.120256900787 seconds\n",
      "Model with rank: 1\n",
      "Mean validation score: 0.991 (std: 0.002)\n",
      "Parameters: {'criterion': 'entropy', 'n_estimators': 130}\n",
      "\n",
      "Model with rank: 2\n",
      "Mean validation score: 0.991 (std: 0.003)\n",
      "Parameters: {'criterion': 'entropy', 'n_estimators': 80}\n",
      "\n",
      "Model with rank: 2\n",
      "Mean validation score: 0.991 (std: 0.003)\n",
      "Parameters: {'criterion': 'entropy', 'n_estimators': 90}\n",
      "\n",
      "Model with rank: 2\n",
      "Mean validation score: 0.991 (std: 0.003)\n",
      "Parameters: {'criterion': 'entropy', 'n_estimators': 120}\n",
      "\n",
      "{'criterion': 'entropy', 'n_estimators': 130}\n"
     ]
    }
   ],
   "source": [
    "# run grid search for each model\n",
    "for i, model in enumerate(grid_models):\n",
    "    name = grid_names[i]\n",
    "    if name in grid_params.keys():\n",
    "        grid_search = GridSearchCV(model, param_grid=grid_params[name], cv=10, verbose=0, refit=True) \n",
    "        \n",
    "        start = time()\n",
    "        grid_search.fit(resort_data, resort_labels)\n",
    "        print(name)\n",
    "        print(f'GridSearchCV took {time() - start} seconds')\n",
    "        report(grid_search.cv_results_)\n",
    "        print(grid_search.best_params_)"
   ]
  },
  {
   "cell_type": "markdown",
   "metadata": {},
   "source": [
    "### Best parameters per model\n",
    "\n",
    "#### Without the \"other\" class\n",
    "Linear SVM\n",
    "GridSearchCV took 52.35708665847778 seconds\n",
    "Model with rank: 1\n",
    "Mean validation score: 0.999 (std: 0.001)\n",
    "Parameters: {'C': 10.0, 'class_weight': None, 'kernel': 'linear'}\n",
    "\n",
    "Random Forest\n",
    "GridSearchCV took 1762.313279390335 seconds\n",
    "Model with rank: 1\n",
    "Mean validation score: 1.000 (std: 0.001)\n",
    "Parameters: {'criterion': 'gini', 'n_estimators': 120}\n",
    "\n",
    "Model with rank: 1\n",
    "Mean validation score: 0.999 (std: 0.001)\n",
    "Parameters: {'activation': 'relu', 'alpha': 0.001, 'hidden_layer_sizes': 80, 'learning_rate': 'constant', 'learning_rate_init': 0.01, 'max_iter': 1000, 'solver': 'adam'}\n",
    "\n",
    "Model with rank: 2\n",
    "Mean validation score: 0.999 (std: 0.001)\n",
    "Parameters: {'activation': 'relu', 'alpha': 0.1, 'hidden_layer_sizes': 100, 'learning_rate': 'adaptive', 'learning_rate_init': 0.0001, 'max_iter': 5000, 'solver': 'adam'}\n",
    "\n",
    "#### With the \"other\" class"
   ]
  },
  {
   "cell_type": "markdown",
   "metadata": {},
   "source": [
    "### Top performing models\n",
    "\n",
    "Based on the confusion matrices, linear svm and random forest are best for classifying T1 grooming\n",
    "\n",
    "Linear SVM\n",
    "GridSearchCV took 4792.992547035217 seconds\n",
    "Model with rank: 1\n",
    "Mean validation score: 0.927 (std: 0.005)\n",
    "Parameters: {'C': 10.0, 'class_weight': None, 'kernel': 'linear'}\n",
    "\n",
    "Random Forest\n",
    "GridSearchCV took 6346.120256900787 seconds\n",
    "Model with rank: 1\n",
    "Mean validation score: 0.991 (std: 0.002)\n",
    "Parameters: {'criterion': 'entropy', 'n_estimators': 130}"
   ]
  },
  {
   "cell_type": "code",
   "execution_count": 63,
   "metadata": {
    "scrolled": false
   },
   "outputs": [
    {
     "name": "stdout",
     "output_type": "stream",
     "text": [
      "Model: Random Forest\n",
      "CrossVal Accuracy: 0.9907575757575757\n",
      "CrossVal Precision: 0.9907731005257716\n",
      "CrossVal Recall: 0.9907575757575757\n",
      "CrossVal F1 Score: 0.9907547604385057\n",
      "Test Accuracy: 1.0000,Test Precision: 1.0000, Test Recall: 1.0000, Test F1 Score: 1.0000\n",
      "Model: Linear SVM\n",
      "CrossVal Accuracy: 0.9266161616161617\n",
      "CrossVal Precision: 0.9257720868231945\n",
      "CrossVal Recall: 0.9266161616161617\n",
      "CrossVal F1 Score: 0.9260993570050426\n",
      "Test Accuracy: 0.9398,Test Precision: 0.9393, Test Recall: 0.9398, Test F1 Score: 0.9395\n"
     ]
    },
    {
     "data": {
      "image/png": "[encoded data removed]",
      "text/plain": [
       "<Figure size 720x504 with 2 Axes>"
      ]
     },
     "metadata": {
      "needs_background": "light"
     },
     "output_type": "display_data"
    },
    {
     "data": {
      "image/png": "[encoded data removed]",
      "text/plain": [
       "<Figure size 720x504 with 2 Axes>"
      ]
     },
     "metadata": {
      "needs_background": "light"
     },
     "output_type": "display_data"
    },
    {
     "data": {
      "image/png": "[encoded data removed]",
      "text/plain": [
       "<Figure size 720x504 with 2 Axes>"
      ]
     },
     "metadata": {
      "needs_background": "light"
     },
     "output_type": "display_data"
    },
    {
     "data": {
      "image/png": "[encoded data removed]",
      "text/plain": [
       "<Figure size 720x504 with 2 Axes>"
      ]
     },
     "metadata": {
      "needs_background": "light"
     },
     "output_type": "display_data"
    }
   ],
   "source": [
    "# Random Forest\n",
    "random_forest_model_base = RandomForestClassifier(\n",
    "    criterion='entropy', \n",
    "    n_estimators=130 \n",
    ")\n",
    "\n",
    "# Linear SVM\n",
    "linear_SVM_model_base = SVC(\n",
    "    C=10.0, \n",
    "    class_weight=None,\n",
    "    kernel='linear'\n",
    ")\n",
    "\n",
    "# # Multi-Layer Perceptron\n",
    "# mlp_model_base = MLPClassifier(\n",
    "#     activation='relu', \n",
    "#     alpha=0.001, \n",
    "#     hidden_layer_sizes=80,\n",
    "#     learning_rate='constant', \n",
    "#     learning_rate_init=0.01, \n",
    "#     solver='adam',\n",
    "#     max_iter=1000\n",
    "#     )\n",
    "\n",
    "# model_list = [random_forest_model_base, linear_SVM_model_base, mlp_model_base]\n",
    "# model_names = ['Random Forest', 'Linear SVM', 'MLP']\n",
    "\n",
    "model_list = [random_forest_model_base, linear_SVM_model_base]\n",
    "model_names = ['Random Forest', 'Linear SVM']\n",
    "trained_models = []\n",
    "for i, model_base in enumerate(model_list): \n",
    "    model, cross_pred, cm = train_model(resort_data, resort_labels, model_base, beh_labels)\n",
    "    cross_accuracy = accuracy_score(resort_labels, cross_pred)\n",
    "    cross_f1 = f1_score(resort_labels, cross_pred, average='weighted', zero_division=0)\n",
    "    cross_recall = recall_score(resort_labels, cross_pred, average='weighted', zero_division=0)\n",
    "    cross_precision = precision_score(resort_labels,cross_pred, average='weighted', zero_division=0)\n",
    "    \n",
    "    print(f'Model: {model_names[i]}\\nCrossVal Accuracy: {cross_accuracy}\\nCrossVal Precision: {cross_precision}\\nCrossVal Recall: {cross_recall}\\nCrossVal F1 Score: {cross_f1}')\n",
    "\n",
    "    # save trained models\n",
    "    trained_models.append(model)\n",
    "    \n",
    "    #Running a final prediction on the entire column to gauge overfitting\n",
    "    model, train_cm, train_pred  = test_model(model, resort_data, resort_labels, beh_labels)\n",
    "\n",
    "    plot_cm(cm, save_fig=False)\n",
    "    plot_cm(train_cm, save_fig=False)"
   ]
  },
  {
   "cell_type": "markdown",
   "metadata": {},
   "source": [
    "### Save the model"
   ]
  },
  {
   "cell_type": "code",
   "execution_count": 64,
   "metadata": {},
   "outputs": [],
   "source": [
    "import pickle\n",
    "from joblib import dump, load"
   ]
  },
  {
   "cell_type": "code",
   "execution_count": 66,
   "metadata": {},
   "outputs": [],
   "source": [
    "date = '20241116'\n",
    "model_names_save = [f'{date}_random_forest', f'{date}_linear_svm']\n",
    "model_path = file_path = pathlib.Path.cwd().parent.joinpath('models')\n",
    "for i, name in enumerate(model_names_save):\n",
    "    output_filepath = model_path.joinpath(f'{name}.pkl')\n",
    "    with open(output_filepath,'wb') as f:\n",
    "        pickle.dump(trained_models[i], f)"
   ]
  }
 ],
 "metadata": {
  "kernelspec": {
   "display_name": "Python 3 (ipykernel)",
   "language": "python",
   "name": "python3"
  },
  "language_info": {
   "codemirror_mode": {
    "name": "ipython",
    "version": 3
   },
   "file_extension": ".py",
   "mimetype": "text/x-python",
   "name": "python",
   "nbconvert_exporter": "python",
   "pygments_lexer": "ipython3",
   "version": "3.9.12"
  }
 },
 "nbformat": 4,
 "nbformat_minor": 2
}
